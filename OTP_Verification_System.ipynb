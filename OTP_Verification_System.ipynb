{
  "nbformat": 4,
  "nbformat_minor": 0,
  "metadata": {
    "colab": {
      "provenance": []
    },
    "kernelspec": {
      "name": "python3",
      "display_name": "Python 3"
    },
    "language_info": {
      "name": "python"
    }
  },
  "cells": [
    {
      "cell_type": "code",
      "execution_count": 14,
      "metadata": {
        "id": "XlswVG55jTtQ"
      },
      "outputs": [],
      "source": [
        "import random\n",
        "import smtplib\n",
        "from email.message import EmailMessage\n",
        "import time\n",
        "import hashlib"
      ]
    },
    {
      "cell_type": "code",
      "source": [
        "def generate_otp():\n",
        "  return str(random.randint(100000, 999999))"
      ],
      "metadata": {
        "id": "wwQdfyZYjjqU"
      },
      "execution_count": 15,
      "outputs": []
    },
    {
      "cell_type": "code",
      "source": [
        "def generate_second_factor():\n",
        "    return hashlib.sha256(str(random.randint(100000, 999999)).encode()).hexdigest()[:8]\n"
      ],
      "metadata": {
        "id": "7p7c8I8GrE4m"
      },
      "execution_count": 22,
      "outputs": []
    },
    {
      "cell_type": "code",
      "source": [
        "def send_email(to_mail, otp):\n",
        "    server = smtplib.SMTP('smtp.gmail.com', 587)\n",
        "    server.starttls()\n",
        "    from_mail = 'Rajesh23vaduguru@gmail.com'\n",
        "    password = \"fkuq jnyv oosx agrt\"\n",
        "    server.login(from_mail, password)\n",
        "    msg = EmailMessage()\n",
        "    msg['Subject'] = \"OTP Verification\"\n",
        "    msg['From'] = from_mail\n",
        "    msg['To'] = to_mail\n",
        "    msg.set_content(f\"Your OTP is: {otp}\")\n",
        "    server.send_message(msg)\n",
        "    server.quit()"
      ],
      "metadata": {
        "id": "24RHWcHyjpWK"
      },
      "execution_count": 16,
      "outputs": []
    },
    {
      "cell_type": "code",
      "source": [
        "def verify_otp(input_otp, correct_otp, start_time, time_limit):\n",
        "    return input_otp == correct_otp and (time.time() - start_time) <= time_limit\n",
        "\n"
      ],
      "metadata": {
        "id": "z8DHVaySlOZ_"
      },
      "execution_count": 17,
      "outputs": []
    },
    {
      "cell_type": "code",
      "source": [
        "max_attempts = 3\n",
        "time_limit = 300"
      ],
      "metadata": {
        "id": "-r963GZklRm2"
      },
      "execution_count": 18,
      "outputs": []
    },
    {
      "cell_type": "code",
      "source": [
        "to_mail = input(\"Enter your email: \")\n",
        "otp = generate_otp()\n",
        "send_email(to_mail, otp)"
      ],
      "metadata": {
        "colab": {
          "base_uri": "https://localhost:8080/"
        },
        "id": "ibO7quBglYZD",
        "outputId": "6f1c9b43-3c49-4e5a-d28b-7403a9848aef"
      },
      "execution_count": 26,
      "outputs": [
        {
          "name": "stdout",
          "output_type": "stream",
          "text": [
            "Enter your email: Rajesh23vaduguru@gmail.com\n"
          ]
        }
      ]
    },
    {
      "cell_type": "code",
      "source": [
        "start_time = time.time()\n",
        "attempts = 0\n"
      ],
      "metadata": {
        "id": "CR2VW2R0ox1-"
      },
      "execution_count": 27,
      "outputs": []
    },
    {
      "cell_type": "code",
      "source": [
        "while attempts < max_attempts:\n",
        "    attempts_left = max_attempts - attempts\n",
        "    input_otp = input(f\"Enter OTP (Attempts left: {attempts_left}): \")\n",
        "\n",
        "    if verify_otp(input_otp, otp, start_time, time_limit):\n",
        "        print(\"OTP Verified. Proceeding to second step verification.\")\n",
        "        second_factor = generate_second_factor()\n",
        "        print(f\"Your second factor code is: {second_factor}\")\n",
        "        second_input = input(\"Enter the second factor code: \")\n",
        "        if second_input == second_factor:\n",
        "            print(\"Access granted.\")\n",
        "            break\n",
        "        else:\n",
        "            print(\"Invalid second factor. Verification failed.\")\n",
        "            break\n",
        "    else:\n",
        "        if (time.time() - start_time) > time_limit:\n",
        "            print(\"Time limit exceeded. OTP has expired.\")\n",
        "            break\n",
        "        else:\n",
        "            print(\"Invalid OTP.\")\n",
        "        attempts += 1\n",
        "\n",
        "        if attempts < max_attempts:\n",
        "            print(f\"You have {attempts_left - 1} attempts left.\")\n",
        "        else:\n",
        "            print(\"Maximum number of attempts reached. OTP verification failed.\")\n",
        "if attempts == max_attempts and (time.time() - start_time) <= time_limit:\n",
        "    print(\"Maximum number of attempts reached. OTP verification failed.\")\n"
      ],
      "metadata": {
        "colab": {
          "base_uri": "https://localhost:8080/"
        },
        "id": "I8WPfCJio8uc",
        "outputId": "5b148aa7-c078-4ac6-9d31-c50cae31bded"
      },
      "execution_count": 28,
      "outputs": [
        {
          "output_type": "stream",
          "name": "stdout",
          "text": [
            "Enter OTP (Attempts left: 3): 134100\n",
            "OTP Verified. Proceeding to second step verification.\n",
            "Your second factor code is: 6d0381a0\n",
            "Enter the second factor code: 6d0381a0\n",
            "Access granted.\n"
          ]
        }
      ]
    },
    {
      "cell_type": "code",
      "source": [],
      "metadata": {
        "id": "PDwZW37BpJX6"
      },
      "execution_count": 9,
      "outputs": []
    },
    {
      "cell_type": "code",
      "source": [],
      "metadata": {
        "id": "mGebyRkjpi4d"
      },
      "execution_count": null,
      "outputs": []
    }
  ]
}